{
 "cells": [
  {
   "cell_type": "markdown",
   "metadata": {},
   "source": [
    "Queue\n",
    "\n",
    "1) Queue are FIFO\n",
    "2) adding and removing from the sides time O(1) if we queue from collections import deque but if we use list, it will be O(N)\n",
    "3) searching is time O(N)\n",
    "4) It is better to use while for queue as the index may change during the loop\n",
    "5) Important functions: (((append, popleft, pop(0), queue[0]))) or (((appendleft, insert(0,value), pop, queue[-1]))), is_empty"
   ]
  },
  {
   "cell_type": "markdown",
   "metadata": {},
   "source": [
    "1st typr qeueue (double ended queue)"
   ]
  },
  {
   "cell_type": "code",
   "execution_count": null,
   "metadata": {},
   "outputs": [],
   "source": [
    "from collections import deque\n",
    "queue1=deque()\n",
    "queue1.appendleft(1)\n",
    "queue1.appendleft(2)\n",
    "print(queue1)\n",
    "queue1.pop()\n",
    "print(queue1)"
   ]
  },
  {
   "cell_type": "markdown",
   "metadata": {},
   "source": [
    "2nd type queue"
   ]
  },
  {
   "cell_type": "code",
   "execution_count": null,
   "metadata": {},
   "outputs": [],
   "source": [
    "from collections import deque\n",
    "queue2=deque()\n",
    "queue2.append(1)\n",
    "queue2.append(2)\n",
    "print(queue2)\n",
    "queue2.popleft()\n",
    "print(queue2)"
   ]
  },
  {
   "cell_type": "markdown",
   "metadata": {},
   "source": [
    "wrapper class for queue"
   ]
  },
  {
   "cell_type": "code",
   "execution_count": null,
   "metadata": {},
   "outputs": [],
   "source": [
    "from collections import deque\n",
    "class wrapper_queue():\n",
    "    def __init__(self,initialVal=deque()):\n",
    "        self.queue=initialVal\n",
    "    def push(self,value):\n",
    "        self.queue.append(value)\n",
    "        return self.queue\n",
    "    def pop(self):\n",
    "        self.queue.popleft()\n",
    "        return self.queue\n",
    "    def peek(self):\n",
    "        return self.queue[0]\n",
    "    def checkQueue(self):\n",
    "        return self.queue\n",
    "queue3=wrapper_queue()\n",
    "queue3.push(1)\n",
    "queue3.push(2)\n",
    "print(queue3.checkQueue())\n",
    "queue3.pop()\n",
    "print(queue3.checkQueue())\n",
    "print(queue3.peek())\n",
    "\n"
   ]
  },
  {
   "cell_type": "markdown",
   "metadata": {},
   "source": [
    "4th type queue: list"
   ]
  },
  {
   "cell_type": "code",
   "execution_count": null,
   "metadata": {},
   "outputs": [],
   "source": [
    "queue=[]\n",
    "queue.append(1)\n",
    "queue.append(2)\n",
    "print(queue)\n",
    "queue.pop(0)\n",
    "print(queue)"
   ]
  },
  {
   "cell_type": "markdown",
   "metadata": {},
   "source": [
    "5th type queue: list"
   ]
  },
  {
   "cell_type": "code",
   "execution_count": null,
   "metadata": {},
   "outputs": [],
   "source": [
    "queue5=[]\n",
    "queue5.insert(0,1)\n",
    "queue5.insert(0,2)\n",
    "print(queue5)\n",
    "queue5.pop()\n",
    "print(queue5)"
   ]
  },
  {
   "cell_type": "code",
   "execution_count": null,
   "metadata": {},
   "outputs": [],
   "source": []
  }
 ],
 "metadata": {
  "kernelspec": {
   "display_name": "Python 3",
   "language": "python",
   "name": "python3"
  },
  "language_info": {
   "codemirror_mode": {
    "name": "ipython",
    "version": 3
   },
   "file_extension": ".py",
   "mimetype": "text/x-python",
   "name": "python",
   "nbconvert_exporter": "python",
   "pygments_lexer": "ipython3",
   "version": "3.11.2"
  }
 },
 "nbformat": 4,
 "nbformat_minor": 2
}
