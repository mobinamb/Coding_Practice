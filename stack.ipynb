{
 "cells": [
  {
   "cell_type": "markdown",
   "metadata": {},
   "source": [
    "Stack\n",
    "\n",
    "1) stacks are LIFO\n",
    "2) adding and removing from the sides time O(1)\n",
    "3) searching is time O(n)\n",
    "4) It is better to use while for stack as the index may change during the loop\n",
    "5) important functions: append, pop or pop(-1), stack[-1] which is peek to only show the last item, is_empty"
   ]
  },
  {
   "cell_type": "markdown",
   "metadata": {},
   "source": [
    "1st stack type: double ended queue"
   ]
  },
  {
   "cell_type": "code",
   "execution_count": null,
   "metadata": {},
   "outputs": [],
   "source": [
    "from collections import deque\n",
    "stack1=deque()\n",
    "stack1.append(1)\n",
    "stack1.append(2)\n",
    "print(stack1)\n",
    "stack1.pop()\n",
    "print(stack1)"
   ]
  },
  {
   "cell_type": "markdown",
   "metadata": {},
   "source": [
    "2nd stack type"
   ]
  },
  {
   "cell_type": "code",
   "execution_count": null,
   "metadata": {},
   "outputs": [],
   "source": [
    "stack2=[]\n",
    "stack2.append(1)\n",
    "stack2.append(2)\n",
    "print(stack2)\n",
    "stack2.pop()\n",
    "print(stack2)"
   ]
  },
  {
   "cell_type": "markdown",
   "metadata": {},
   "source": [
    "3rd type: wrapper class for stack"
   ]
  },
  {
   "cell_type": "code",
   "execution_count": null,
   "metadata": {},
   "outputs": [],
   "source": [
    "class wrapper_stack():\n",
    "    def __init__(self,initialVal=[]):\n",
    "        self.stack=initialVal\n",
    "    def push(self,value):\n",
    "        self.stack.append(value)\n",
    "        return self.stack\n",
    "    def pop(self):\n",
    "        self.stack.pop(-1)\n",
    "    def peek(self):\n",
    "        return self.stack[-1]\n",
    "    def checkStack(self):\n",
    "        return self.stack\n",
    "    \n",
    "stack3=wrapper_stack()\n",
    "stack3.push(1)\n",
    "stack3.push(2)\n",
    "print(stack3.checkStack())\n",
    "print(stack3.peek())\n",
    "stack3.pop()\n",
    "print(stack3.checkStack())"
   ]
  },
  {
   "cell_type": "markdown",
   "metadata": {},
   "source": [
    "see if the string is valid, for every open '(','[', and '{', we should have the closed version in order:\n",
    "\n",
    "\n",
    "time O(N) is the stack append and pop is O(1) but we are looping over the items in string\n",
    "\n",
    "\n",
    "space O(N)"
   ]
  },
  {
   "cell_type": "code",
   "execution_count": null,
   "metadata": {},
   "outputs": [],
   "source": [
    "def is_valid_string(S):\n",
    "    collocation={'(':')','{':'}','[':']'}\n",
    "    stack=[S[0]]\n",
    "    for s in S[1:]:\n",
    "        if s==collocation[stack[-1]]:\n",
    "            stack.pop()\n",
    "        else:\n",
    "            stack.append(s)\n",
    "    return len(stack)==0\n",
    "\n",
    "print(is_valid_string('()')) #T\n",
    "print(is_valid_string('[()]'))#T\n",
    "print(is_valid_string('({)'))#F"
   ]
  },
  {
   "cell_type": "markdown",
   "metadata": {},
   "source": [
    "longest valid substring which includes '(' and corresponding ')'\n",
    "\n",
    "time O(N) \n",
    "\n",
    "space O(N) as in worst case teh stack contains all the charachters in the string"
   ]
  },
  {
   "cell_type": "code",
   "execution_count": null,
   "metadata": {},
   "outputs": [],
   "source": [
    "def longest_valid(S):\n",
    "    stack=[]\n",
    "    length,cur_length=0,0\n",
    "    for s in S:\n",
    "        if s=='(':\n",
    "            stack.append(s)\n",
    "            cur_length=0\n",
    "        elif len(stack)!=0 and s==')':\n",
    "            stack.pop()\n",
    "            cur_length+=2\n",
    "            length=max(length,cur_length)\n",
    "    return length\n",
    "s = \"()(((((())))\"\n",
    "print(longest_valid(s))"
   ]
  },
  {
   "cell_type": "markdown",
   "metadata": {},
   "source": [
    "simplify unix path: // to /, removing ..., and removing from /\n",
    "\n",
    "time O(N)\n",
    "\n",
    "space O(N)"
   ]
  },
  {
   "cell_type": "code",
   "execution_count": null,
   "metadata": {},
   "outputs": [],
   "source": [
    "def simplify_path(path):\n",
    "    p_list=path.split('/')\n",
    "    stack=[]\n",
    "    for p_l in p_list:\n",
    "        if p_l in ('','.'):\n",
    "            continue\n",
    "        elif p_l=='..' and not(stack):\n",
    "            stack.pop()\n",
    "        else:\n",
    "            stack.append(p_l)\n",
    "    return '/'+'/'.join(stack)\n",
    "\n",
    "print(simplify_path(\"/home//foo/\"))"
   ]
  },
  {
   "cell_type": "markdown",
   "metadata": {},
   "source": [
    "implementing queue using two stacks\n",
    "\n",
    "time O(N) due to the loop or pop(0)\n",
    "\n",
    "space O(1)"
   ]
  },
  {
   "cell_type": "code",
   "execution_count": null,
   "metadata": {},
   "outputs": [],
   "source": [
    "class queue_with2stacks():\n",
    "    def __init__(self,initial=[]):\n",
    "        self.stack2=initial\n",
    "        self.stack1=[]\n",
    "    def push(self,value):\n",
    "        self.stack1.append(value)\n",
    "        for i in range(len(self.stack1)-1,-1,-1):\n",
    "            self.stack2.append(self.stack1[i])\n",
    "    def pop(self):\n",
    "        return self.stack2.pop()\n",
    "    def peek(self):\n",
    "        return self.stack2[-1]\n",
    "    def empty(self):\n",
    "        return len(self.stack2)==0\n",
    "    \n",
    "queue1=queue_with2stacks()\n",
    "queue1.push(1)\n",
    "queue1.push(2)\n",
    "queue1.push(3)\n",
    "print(queue1.peek())\n",
    "print(queue1.pop())\n",
    "print(queue1.empty())\n",
    "\n",
    "\n",
    "##second\n",
    "class queue_with2stacks():\n",
    "    def __init__(self,initial=[]):\n",
    "        self.stack=initial\n",
    "    def push(self,value):\n",
    "        self.stack+=[value]\n",
    "    def pop(self):\n",
    "        return self.stack.pop(0)\n",
    "    def peek(self):\n",
    "        return self.stack[0]\n",
    "    def empty(self):\n",
    "        return len(self.stack)==0\n",
    "    \n",
    "queue1=queue_with2stacks()\n",
    "queue1.push(1)\n",
    "queue1.push(2)\n",
    "queue1.push(3)\n",
    "print(queue1.peek())\n",
    "print(queue1.pop())\n",
    "print(queue1.empty())"
   ]
  },
  {
   "cell_type": "markdown",
   "metadata": {},
   "source": [
    "VERY IMPORTANT!!!\n",
    "\n",
    "to have time O(1): we can define self.index and add one if there is pop, this will be the current position for peek, and if the total length of the stack is equal to index it means the stack is empty\n",
    "\n",
    "space O(1)"
   ]
  },
  {
   "cell_type": "code",
   "execution_count": null,
   "metadata": {},
   "outputs": [],
   "source": [
    "#third with time O(1) and space O(1)\n",
    "class queue_with2stacks():\n",
    "    def __init__(self,initial=[]):\n",
    "        self.stack=initial\n",
    "        self.index=0\n",
    "    def push(self,value):\n",
    "        self.stack+=[value]\n",
    "    def pop(self):\n",
    "        self.index+=1\n",
    "        return self.stack[self.index-1]\n",
    "    def peek(self):\n",
    "        return self.stack[self.index]\n",
    "    def empty(self):\n",
    "        return self.index==len(self.stack)\n",
    "    \n",
    "queue1=queue_with2stacks()\n",
    "queue1.push(1)\n",
    "queue1.push(2)\n",
    "queue1.push(3)\n",
    "print(queue1.peek())\n",
    "print(queue1.pop())\n",
    "print(queue1.empty())"
   ]
  },
  {
   "cell_type": "markdown",
   "metadata": {},
   "source": [
    "simple calculator from '+ - * /'\n",
    "\n",
    "time O(N^2)\n",
    "\n",
    "space O(N)"
   ]
  },
  {
   "cell_type": "code",
   "execution_count": null,
   "metadata": {},
   "outputs": [],
   "source": [
    "def simple_calculator(S):\n",
    "    stack=[]\n",
    "    S=S.replace('-','+-')\n",
    "    S=S.replace('/','*/')\n",
    "    S_list=S.split('+')\n",
    "    for item in S_list:\n",
    "        if '*' in item:\n",
    "            mul=1\n",
    "            item_list=item.split('*')\n",
    "            for i in item_list:\n",
    "                if i[0]=='/':\n",
    "                    mul*=int(1/int(i[1:]))\n",
    "                else:\n",
    "                    mul*=int(i)\n",
    "            stack.append(mul)\n",
    "        else:\n",
    "            stack.append(int(item))\n",
    "\n",
    "    return sum(stack) \n",
    "\n",
    "S='3+2*7'\n",
    "simple_calculator(S)\n"
   ]
  },
  {
   "cell_type": "markdown",
   "metadata": {},
   "source": [
    "time O(N)\n",
    "space O(1)"
   ]
  },
  {
   "cell_type": "code",
   "execution_count": null,
   "metadata": {},
   "outputs": [],
   "source": [
    "def simple_calculator(s):\n",
    "    if not s:\n",
    "        return \"0\" \n",
    "    num, stack, sign = 0, [], \"+\"\n",
    "    for i in range(len(s)):\n",
    "        if s[i].isdigit():\n",
    "            num = num * 10 + int(s[i]) # or num = num*10 + ord(s[i]) - ord(\"0\")\n",
    "        if s[i] in \"+-*/\" or i == len(s) - 1:\n",
    "            if sign == \"+\":\n",
    "                stack.append(num)\n",
    "            elif sign == \"-\":\n",
    "                stack.append(-num)\n",
    "            elif sign == \"*\":\n",
    "                stack.append(stack.pop()*num)\n",
    "            else:\n",
    "                stack.append(int(stack.pop()/num))\n",
    "            num = 0\n",
    "            sign = s[i]\n",
    "    return sum(stack) \n",
    "S='3+2*7'\n",
    "simple_calculator(S)"
   ]
  },
  {
   "cell_type": "markdown",
   "metadata": {},
   "source": [
    "a string includes letters and paranthesis. Remove min paranthesis to make the string valid and return all the possibilities\n",
    "\n",
    "BFS\n",
    "\n",
    "Time O(N)\n",
    "Space O(1)"
   ]
  },
  {
   "cell_type": "code",
   "execution_count": 4,
   "metadata": {},
   "outputs": [
    {
     "name": "stdout",
     "output_type": "stream",
     "text": [
      "{'()()))', '()())(', '(())()', ')())()', '()()()', '()))()'}\n",
      "['(())()', '()()()']\n"
     ]
    }
   ],
   "source": [
    "def isValid(S):\n",
    "    count=0\n",
    "    for s in S:\n",
    "        if s=='(':\n",
    "            count+=1\n",
    "        elif s==')': \n",
    "            if count>0:\n",
    "                count-=1\n",
    "            else:\n",
    "                return False\n",
    "    return count>=0\n",
    "\n",
    "\n",
    "def possible_valid_s(s):\n",
    "    level={s}\n",
    "    while True:\n",
    "        valid=list(filter(isValid,level)) #very good function to chack all the items satisfy the condition\n",
    "        if valid:\n",
    "            return valid\n",
    "        level={s[:i]+s[i+1:] for s in level for i in range(len(s))} # create strings and everytime remmove one chatachter, if removing one character works, just print the possibilities that are valid, otherwise remove two charachters\n",
    "\n",
    "print(possible_valid_s(\"()())()\"))"
   ]
  },
  {
   "cell_type": "markdown",
   "metadata": {},
   "source": [
    "decode a string that have letter and the number of repetitions\n",
    "\n",
    "\n",
    "time O(N)\n",
    "\n",
    "Space O(N)"
   ]
  },
  {
   "cell_type": "code",
   "execution_count": 33,
   "metadata": {},
   "outputs": [
    {
     "data": {
      "text/plain": [
       "'cacccacccacccacc'"
      ]
     },
     "execution_count": 33,
     "metadata": {},
     "output_type": "execute_result"
    }
   ],
   "source": [
    "def decode(S):\n",
    "    stack,curString,curNum=[],'',0\n",
    "    for s in S:\n",
    "        if s=='[':\n",
    "            stack.append(curString)\n",
    "            stack.append(curNum)\n",
    "            curNum,curString=0,''\n",
    "        elif s==']':\n",
    "            num=stack.pop()\n",
    "            prevString=stack.pop()\n",
    "            curString+=prevString+num*curString\n",
    "        elif s.isdigit():\n",
    "            curNum=curNum*10+int(s)\n",
    "        else:\n",
    "            curString+=s        \n",
    "    return curString\n",
    "\n",
    "S = \"3[a2[c]]\"\n",
    "decode(S)"
   ]
  },
  {
   "cell_type": "markdown",
   "metadata": {},
   "source": [
    "Exclusive Time of Functions\n",
    "\n",
    "Input: n = 2, logs = [\"0:start:0\",\"0:start:2\",\"0:end:5\",\"1:start:6\",\"1:end:6\",\"0:end:7\"]\n",
    "Output: [7,1]\n",
    "\n",
    "\n",
    "time O(m), where m is the number of logs\n",
    "\n",
    "\n",
    "space O(n), where n is the number of id -> as we created a zero array of size n"
   ]
  },
  {
   "cell_type": "code",
   "execution_count": null,
   "metadata": {},
   "outputs": [],
   "source": [
    "import numpy as np\n",
    "def time_func(n,logs):\n",
    "    stack,output=[],np.zeros((n,1))\n",
    "    for log in logs:\n",
    "        l=log.split(':')\n",
    "        if l[1]=='start':\n",
    "            stack.append([int(l[0]),int(l[2])])\n",
    "        elif l[1]=='end':\n",
    "            output[int(l[0])]+=int(l[2])-stack.pop()[1]+1\n",
    "        if len(stack)!=0: # still there is an open interval\n",
    "            output[stack[-1][0]]-=stack[-1][1]\n",
    "    return output\n",
    "\n",
    "print(time_func(2,[\"0:start:0\",\"1:start:2\",\"1:end:5\",\"0:end:6\"]))"
   ]
  },
  {
   "cell_type": "markdown",
   "metadata": {},
   "source": [
    "Minimum Add to Make Parentheses Valid\n",
    "\n",
    "\n",
    "time: O(N)\n",
    "\n",
    "space: O(1)"
   ]
  },
  {
   "cell_type": "code",
   "execution_count": 12,
   "metadata": {},
   "outputs": [
    {
     "name": "stdout",
     "output_type": "stream",
     "text": [
      "3\n"
     ]
    }
   ],
   "source": [
    "def min_valid_par(S):\n",
    "    opening,closing=0,0\n",
    "    for s in S:\n",
    "        if s=='(':\n",
    "            opening+=1\n",
    "        elif s==')':\n",
    "            if opening!=0:\n",
    "                opening-=1\n",
    "            else:\n",
    "                closing+=1\n",
    "    return closing+opening\n",
    "\n",
    "print(min_valid_par(\"(((\"))"
   ]
  },
  {
   "cell_type": "markdown",
   "metadata": {},
   "source": [
    "Remove All Adjacent Duplicates in String\n",
    "\n",
    "time: O(N)\n",
    "\n",
    "space: O(N)"
   ]
  },
  {
   "cell_type": "code",
   "execution_count": null,
   "metadata": {},
   "outputs": [],
   "source": [
    "def remove_dup(s):\n",
    "    stack=[]\n",
    "    for ch in s:\n",
    "        if len(stack)==0 or stack[-1]!=ch:\n",
    "            stack.append(ch)\n",
    "        else:\n",
    "            stack.pop()\n",
    "    return ''.join(stack)\n",
    "print(remove_dup(\"azxxzy\"))"
   ]
  },
  {
   "cell_type": "markdown",
   "metadata": {},
   "source": [
    "time O(N)\n",
    "space O(N)"
   ]
  },
  {
   "cell_type": "code",
   "execution_count": 31,
   "metadata": {},
   "outputs": [
    {
     "name": "stdout",
     "output_type": "stream",
     "text": [
      "ps\n"
     ]
    }
   ],
   "source": [
    "def remove_dup_with_k(s,k):\n",
    "    stack=[]\n",
    "    for ch in s:\n",
    "        if len(stack)<k-1 or list(stack[-k+1:]+[ch]).count(ch)!=k:\n",
    "            stack.append(ch)\n",
    "        else:\n",
    "            stack=stack[:-k+1]\n",
    "    return ''.join(stack)\n",
    "print(remove_dup_with_k(\"pbbcggttciiippooaais\",2))\n"
   ]
  },
  {
   "cell_type": "markdown",
   "metadata": {},
   "source": [
    "time O(N)\n",
    "\n",
    "space O(1)"
   ]
  },
  {
   "cell_type": "code",
   "execution_count": 33,
   "metadata": {},
   "outputs": [
    {
     "name": "stdout",
     "output_type": "stream",
     "text": [
      "ps\n"
     ]
    }
   ],
   "source": [
    "def remove_dup_with_k(s,k):\n",
    "    for ch in s:\n",
    "        s=s.replace(ch*k,\"\")\n",
    "    return s\n",
    "print(remove_dup_with_k(\"pbbcggttciiippooaais\",2))"
   ]
  },
  {
   "cell_type": "markdown",
   "metadata": {},
   "source": [
    "Minimum Remove to Make Valid Parentheses\n",
    "\n",
    "time : O(N)\n",
    "\n",
    "space: O(N)"
   ]
  },
  {
   "cell_type": "code",
   "execution_count": 38,
   "metadata": {},
   "outputs": [
    {
     "name": "stdout",
     "output_type": "stream",
     "text": [
      "lee(t(c)o)de\n"
     ]
    }
   ],
   "source": [
    "def min_remove_par(s):\n",
    "    s=list(s)\n",
    "    stack=[]\n",
    "    for i,ch in enumerate(s):\n",
    "        if ch=='(':\n",
    "            stack.append(i)\n",
    "        elif ch==')':\n",
    "            if stack:\n",
    "                stack.pop()\n",
    "            else:\n",
    "                s[i]=''\n",
    "    while stack:\n",
    "        s[stack.pop()]=''\n",
    "    return ''.join(s)\n",
    "print(min_remove_par(\"lee(t(c)o)de)\"))\n",
    "            "
   ]
  },
  {
   "cell_type": "code",
   "execution_count": null,
   "metadata": {},
   "outputs": [],
   "source": []
  }
 ],
 "metadata": {
  "kernelspec": {
   "display_name": "Python 3",
   "language": "python",
   "name": "python3"
  },
  "language_info": {
   "codemirror_mode": {
    "name": "ipython",
    "version": 3
   },
   "file_extension": ".py",
   "mimetype": "text/x-python",
   "name": "python",
   "nbconvert_exporter": "python",
   "pygments_lexer": "ipython3",
   "version": "3.11.2"
  }
 },
 "nbformat": 4,
 "nbformat_minor": 2
}
