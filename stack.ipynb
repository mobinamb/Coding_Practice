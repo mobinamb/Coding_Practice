{
 "cells": [
  {
   "cell_type": "markdown",
   "metadata": {},
   "source": [
    "Stack\n",
    "\n",
    "1) stacks are LIFO\n",
    "2) adding and removing from the sides time O(1)\n",
    "3) searching is time O(n)\n",
    "4) It is better to use while for stack as the index may change during the loop\n",
    "5) important functions: append, pop or pop(-1), stack[-1] which is peek to only show the last item, is_empty"
   ]
  },
  {
   "cell_type": "markdown",
   "metadata": {},
   "source": [
    "1st stack type: double ended queue"
   ]
  },
  {
   "cell_type": "code",
   "execution_count": null,
   "metadata": {},
   "outputs": [],
   "source": [
    "from collections import deque\n",
    "stack1=deque()\n",
    "stack1.append(1)\n",
    "stack1.append(2)\n",
    "print(stack1)\n",
    "stack1.pop()\n",
    "print(stack1)"
   ]
  },
  {
   "cell_type": "markdown",
   "metadata": {},
   "source": [
    "2nd stack type"
   ]
  },
  {
   "cell_type": "code",
   "execution_count": null,
   "metadata": {},
   "outputs": [],
   "source": [
    "stack2=[]\n",
    "stack2.append(1)\n",
    "stack2.append(2)\n",
    "print(stack2)\n",
    "stack2.pop()\n",
    "print(stack2)"
   ]
  },
  {
   "cell_type": "markdown",
   "metadata": {},
   "source": [
    "3rd type: wrapper class for stack"
   ]
  },
  {
   "cell_type": "code",
   "execution_count": null,
   "metadata": {},
   "outputs": [],
   "source": [
    "class wrapper_stack():\n",
    "    def __init__(self,initialVal=[]):\n",
    "        self.stack=initialVal\n",
    "    def push(self,value):\n",
    "        self.stack.append(value)\n",
    "        return self.stack\n",
    "    def pop(self):\n",
    "        self.stack.pop(-1)\n",
    "    def peek(self):\n",
    "        return self.stack[-1]\n",
    "    def checkStack(self):\n",
    "        return self.stack\n",
    "    \n",
    "stack3=wrapper_stack()\n",
    "stack3.push(1)\n",
    "stack3.push(2)\n",
    "print(stack3.checkStack())\n",
    "print(stack3.peek())\n",
    "stack3.pop()\n",
    "print(stack3.checkStack())"
   ]
  },
  {
   "cell_type": "markdown",
   "metadata": {},
   "source": [
    "see if the string is valid, for every open '(','[', and '{', we should have the closed version in order:\n",
    "\n",
    "\n",
    "time O(N) is the stack append and pop is O(1) but we are looping over the items in string\n",
    "\n",
    "\n",
    "space O(1)"
   ]
  },
  {
   "cell_type": "code",
   "execution_count": null,
   "metadata": {},
   "outputs": [],
   "source": [
    "def is_valid_string(S):\n",
    "    collocation={'(':')','{':'}','[':']'}\n",
    "    stack=[S[0]]\n",
    "    for s in S[1:]:\n",
    "        if s==collocation[stack[-1]]:\n",
    "            stack.pop()\n",
    "        else:\n",
    "            stack.append(s)\n",
    "    return len(stack)==0\n",
    "\n",
    "print(is_valid_string('()')) #T\n",
    "print(is_valid_string('[()]'))#T\n",
    "print(is_valid_string('({)'))#F"
   ]
  },
  {
   "cell_type": "markdown",
   "metadata": {},
   "source": [
    "longest valid substring which includes '(' and corresponding ')'\n",
    "\n",
    "time O(N) \n",
    "\n",
    "space O(N) as in worst case teh stack contains all the charachters in the string"
   ]
  },
  {
   "cell_type": "code",
   "execution_count": null,
   "metadata": {},
   "outputs": [],
   "source": [
    "def longest_valid(S):\n",
    "    stack=[]\n",
    "    length,cur_length=0,0\n",
    "    for s in S:\n",
    "        if s=='(':\n",
    "            stack.append(s)\n",
    "            cur_length=0\n",
    "        elif len(stack)!=0 and s==')':\n",
    "            stack.pop()\n",
    "            cur_length+=2\n",
    "            length=max(length,cur_length)\n",
    "    return length\n",
    "s = \"()(((((())))\"\n",
    "print(longest_valid(s))"
   ]
  },
  {
   "cell_type": "markdown",
   "metadata": {},
   "source": [
    "simplify unix path: // to /, removing ..., and removing from /\n",
    "\n",
    "time O(N)\n",
    "\n",
    "space O(N)"
   ]
  },
  {
   "cell_type": "code",
   "execution_count": null,
   "metadata": {},
   "outputs": [],
   "source": [
    "def simplify_path(path):\n",
    "    p_list=path.split('/')\n",
    "    stack=[]\n",
    "    for p_l in p_list:\n",
    "        if p_l in ('','.'):\n",
    "            continue\n",
    "        elif p_l=='..' and not(stack):\n",
    "            stack.pop()\n",
    "        else:\n",
    "            stack.append(p_l)\n",
    "    return '/'+'/'.join(stack)\n",
    "\n",
    "print(simplify_path(\"/home//foo/\"))"
   ]
  },
  {
   "cell_type": "markdown",
   "metadata": {},
   "source": [
    "implementing queue using two stacks\n",
    "\n",
    "time O(N) due to the loop or pop(0)\n",
    "\n",
    "space O(1)"
   ]
  },
  {
   "cell_type": "code",
   "execution_count": null,
   "metadata": {},
   "outputs": [],
   "source": [
    "class queue_with2stacks():\n",
    "    def __init__(self,initial=[]):\n",
    "        self.stack2=initial\n",
    "        self.stack1=[]\n",
    "    def push(self,value):\n",
    "        self.stack1.append(value)\n",
    "        for i in range(len(self.stack1)-1,-1,-1):\n",
    "            self.stack2.append(self.stack1[i])\n",
    "    def pop(self):\n",
    "        return self.stack2.pop()\n",
    "    def peek(self):\n",
    "        return self.stack2[-1]\n",
    "    def empty(self):\n",
    "        return len(self.stack2)==0\n",
    "    \n",
    "queue1=queue_with2stacks()\n",
    "queue1.push(1)\n",
    "queue1.push(2)\n",
    "queue1.push(3)\n",
    "print(queue1.peek())\n",
    "print(queue1.pop())\n",
    "print(queue1.empty())\n",
    "\n",
    "\n",
    "##second\n",
    "class queue_with2stacks():\n",
    "    def __init__(self,initial=[]):\n",
    "        self.stack=initial\n",
    "    def push(self,value):\n",
    "        self.stack+=[value]\n",
    "    def pop(self):\n",
    "        return self.stack.pop(0)\n",
    "    def peek(self):\n",
    "        return self.stack[0]\n",
    "    def empty(self):\n",
    "        return len(self.stack)==0\n",
    "    \n",
    "queue1=queue_with2stacks()\n",
    "queue1.push(1)\n",
    "queue1.push(2)\n",
    "queue1.push(3)\n",
    "print(queue1.peek())\n",
    "print(queue1.pop())\n",
    "print(queue1.empty())"
   ]
  },
  {
   "cell_type": "markdown",
   "metadata": {},
   "source": [
    "VERY IMPORTANT!!!\n",
    "\n",
    "to have time O(1): we can define self.index and add one if there is pop, this will be the current position for peek, and if the total length of the stack is equal to index it means the stack is empty\n",
    "\n",
    "space O(1)"
   ]
  },
  {
   "cell_type": "code",
   "execution_count": null,
   "metadata": {},
   "outputs": [],
   "source": [
    "#third with time O(1) and space O(1)\n",
    "class queue_with2stacks():\n",
    "    def __init__(self,initial=[]):\n",
    "        self.stack=initial\n",
    "        self.index=0\n",
    "    def push(self,value):\n",
    "        self.stack+=[value]\n",
    "    def pop(self):\n",
    "        self.index+=1\n",
    "        return self.stack[self.index-1]\n",
    "    def peek(self):\n",
    "        return self.stack[self.index]\n",
    "    def empty(self):\n",
    "        return self.index==len(self.stack)\n",
    "    \n",
    "queue1=queue_with2stacks()\n",
    "queue1.push(1)\n",
    "queue1.push(2)\n",
    "queue1.push(3)\n",
    "print(queue1.peek())\n",
    "print(queue1.pop())\n",
    "print(queue1.empty())"
   ]
  },
  {
   "cell_type": "markdown",
   "metadata": {},
   "source": []
  },
  {
   "cell_type": "code",
   "execution_count": null,
   "metadata": {},
   "outputs": [],
   "source": []
  }
 ],
 "metadata": {
  "kernelspec": {
   "display_name": "Python 3",
   "language": "python",
   "name": "python3"
  },
  "language_info": {
   "codemirror_mode": {
    "name": "ipython",
    "version": 3
   },
   "file_extension": ".py",
   "mimetype": "text/x-python",
   "name": "python",
   "nbconvert_exporter": "python",
   "pygments_lexer": "ipython3",
   "version": "3.11.2"
  }
 },
 "nbformat": 4,
 "nbformat_minor": 2
}
