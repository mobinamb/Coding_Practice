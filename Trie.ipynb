{
 "cells": [
  {
   "cell_type": "markdown",
   "metadata": {},
   "source": [
    "Trie is a tree that each node represent a charachter and can have up to 26 children (number of alphabests)\n",
    "\n",
    "\n",
    "time O(L), where L is the length of the largest word in a trie. This is faster than O(log(N)) for binary search\n",
    "\n",
    "space (N*L) more space than binary search O(1)"
   ]
  },
  {
   "cell_type": "code",
   "execution_count": null,
   "metadata": {},
   "outputs": [],
   "source": [
    "class Node():\n",
    "    def __init__(self,value=None):\n",
    "        self.value=value\n",
    "        self.child={}\n",
    "        self.ended=False\n",
    "\n",
    "\n",
    "class wordDictionary():\n",
    "    def __init__(self):\n",
    "        self.root=Node(None)\n",
    "\n",
    "    def add_word(self,word):\n",
    "        node=self.root\n",
    "        for ch in word:\n",
    "            if not ch in node.children():\n",
    "                node.children[ch]=Node()\n",
    "            node=node.children[ch]\n",
    "            node.ended=True\n",
    "        \n",
    "\n",
    "    def search_word(self,word):\n",
    "        node=self.root\n",
    "        for ch in word:\n",
    "            if ch in node.children():\n",
    "                node=node.children[ch]\n",
    "            else:\n",
    "                return False\n",
    "        return node.ended\n",
    "    \n",
    "    def remove_word(self,word):\n",
    "        node=self.root\n",
    "        for ch in word:\n",
    "            if ch in node.children:\n",
    "                if len(node.children)==1:\n",
    "                    node.children={}\n",
    "                    node.ended=True\n",
    "                    break\n",
    "                else:\n",
    "                    node=node.children[ch]\n",
    "            "
   ]
  },
  {
   "cell_type": "code",
   "execution_count": null,
   "metadata": {},
   "outputs": [],
   "source": []
  }
 ],
 "metadata": {
  "language_info": {
   "name": "python"
  }
 },
 "nbformat": 4,
 "nbformat_minor": 2
}
