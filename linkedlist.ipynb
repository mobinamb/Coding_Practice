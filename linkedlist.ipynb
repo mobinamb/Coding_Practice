{
 "cells": [
  {
   "cell_type": "markdown",
   "metadata": {},
   "source": [
    "linear data structure with the previous node linking to the next node"
   ]
  },
  {
   "cell_type": "code",
   "execution_count": 6,
   "metadata": {},
   "outputs": [
    {
     "name": "stdout",
     "output_type": "stream",
     "text": [
      "1 ->3 ->5\n",
      "1 ->5\n"
     ]
    }
   ],
   "source": [
    "class Node():\n",
    "    def __init__(self,value=None):\n",
    "        self.value=value\n",
    "        self.next=None\n",
    "\n",
    "class linkedList():\n",
    "    def __init__(self):\n",
    "        self.root=None ####IMORTANT: start linkedlist with a None root\n",
    "\n",
    "    def push(self,value):\n",
    "        if self.root==None:\n",
    "            self.root=Node(value)\n",
    "        else:\n",
    "            node=self.root\n",
    "            while node.next:\n",
    "                node=node.next\n",
    "            node.next=Node(value)\n",
    "\n",
    "    def remove(self,value):\n",
    "        prevNode=None\n",
    "        node=self.root\n",
    "        while node:\n",
    "            if node.value==value:\n",
    "                prevNode.next=node.next\n",
    "                node=node.next\n",
    "                node.next=None\n",
    "            prevNode=node\n",
    "            node=node.next               \n",
    "\n",
    "    def display(self):\n",
    "        node=self.root\n",
    "        while node.next:\n",
    "            print(node.value, '->',end='')\n",
    "            node=node.next\n",
    "        print(node.value)\n",
    "\n",
    "l=linkedList()\n",
    "l.push(1)\n",
    "l.push(3)\n",
    "l.push(5)\n",
    "l.display()\n",
    "l.remove(3)\n",
    "l.display()\n"
   ]
  },
  {
   "cell_type": "code",
   "execution_count": null,
   "metadata": {},
   "outputs": [],
   "source": []
  }
 ],
 "metadata": {
  "kernelspec": {
   "display_name": "Python 3",
   "language": "python",
   "name": "python3"
  },
  "language_info": {
   "codemirror_mode": {
    "name": "ipython",
    "version": 3
   },
   "file_extension": ".py",
   "mimetype": "text/x-python",
   "name": "python",
   "nbconvert_exporter": "python",
   "pygments_lexer": "ipython3",
   "version": "3.11.2"
  }
 },
 "nbformat": 4,
 "nbformat_minor": 2
}
