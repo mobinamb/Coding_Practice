{
 "cells": [
  {
   "cell_type": "markdown",
   "metadata": {},
   "source": [
    "If input is sorted -> binary search\n",
    "If input not sorted -> two pointer, sliding window"
   ]
  },
  {
   "cell_type": "markdown",
   "metadata": {},
   "source": [
    "If all permutations, subsets, combinations -> backtracking"
   ]
  },
  {
   "cell_type": "markdown",
   "metadata": {},
   "source": [
    "If given a graph, tree, grid-> BFS, DFS"
   ]
  },
  {
   "cell_type": "markdown",
   "metadata": {},
   "source": [
    "If given a linked list -> two pointer"
   ]
  },
  {
   "cell_type": "markdown",
   "metadata": {},
   "source": [
    "If recursion is banned -> stack\n",
    "Also if talking about paranthesis in a string -> stack"
   ]
  },
  {
   "cell_type": "markdown",
   "metadata": {},
   "source": [
    "If asked max, min subarray, subset, option -> dynammic programming"
   ]
  },
  {
   "cell_type": "markdown",
   "metadata": {},
   "source": [
    "If asked top/least k items -> heap"
   ]
  },
  {
   "cell_type": "markdown",
   "metadata": {},
   "source": [
    "If asked for common string -> map, trie"
   ]
  },
  {
   "cell_type": "markdown",
   "metadata": {},
   "source": [
    "If must solved in-place -> swap corresponding values, store one or different values in the same pointer"
   ]
  },
  {
   "cell_type": "markdown",
   "metadata": {},
   "source": [
    "else -> sort the input in O(nlogn) time and O(1) space with quick sort, or map, set for O(1) time and O(N) space"
   ]
  }
 ],
 "metadata": {
  "language_info": {
   "name": "python"
  }
 },
 "nbformat": 4,
 "nbformat_minor": 2
}
