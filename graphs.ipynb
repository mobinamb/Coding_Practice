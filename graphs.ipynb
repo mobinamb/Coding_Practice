{
 "cells": [
  {
   "cell_type": "markdown",
   "metadata": {},
   "source": [
    "graphs consist of set of nodes/vertices and set of ordered pairs\n",
    "\n",
    "appliction: telephone network, social media, circuit network, city paths\n",
    "\n",
    "adjacency matrix: it is symmetric for nondirected matrix and adjMAtrix[i][j] is 1 f node i is connected to node j and 0 otherwise, space (V^2), time for removing/ checking the connection between two nodes is O(1)\n",
    "\n",
    "adjecanc list: space O(k) which is a list of k vetrices and list[i] shows a list of vertices that is connected to vertix i"
   ]
  },
  {
   "cell_type": "code",
   "execution_count": 1,
   "metadata": {},
   "outputs": [],
   "source": [
    "class Node():\n",
    "    def __init__(self,data):\n",
    "        self.vertex=data\n",
    "        self.next=None\n",
    "\n",
    "\n",
    "class graph():\n",
    "    def __init__(self,vertices):\n",
    "        self.v=vertices\n",
    "        self.graph=[None]*self.v\n",
    "\n",
    "    def add_edge(self,src,dest):\n",
    "        node=Node(dest)\n",
    "        node.next=self.graph[src]\n",
    "        self.graph[src]=node\n",
    "\n",
    "V=5\n",
    "g=graph(V)\n",
    "g.add_edge(0,1)\n",
    "g.add_edge(1,2)\n",
    "g.add_edge(0,3)\n",
    "g.add_edge(3,4)\n",
    "g.add_edge(0,5)\n"
   ]
  },
  {
   "cell_type": "markdown",
   "metadata": {},
   "source": [
    "generating a graph with dictionary\n",
    "graph={'a':['b','c'],'b':['c'],'c':[]} default dictionary"
   ]
  },
  {
   "cell_type": "code",
   "execution_count": 4,
   "metadata": {},
   "outputs": [
    {
     "name": "stdout",
     "output_type": "stream",
     "text": [
      "[('a', 'b'), ('a', 'c'), ('b', 'c')]\n",
      "defaultdict(<class 'list'>, {'a': ['b', 'c'], 'b': ['c']})\n"
     ]
    }
   ],
   "source": [
    "from collections import defaultdict\n",
    "def add_edge(graph,u,v):\n",
    "    graph[u].append(v)\n",
    "\n",
    "def generate_edges(graph):\n",
    "    graph_final=[]\n",
    "    for key in list(graph.keys()):\n",
    "        for value in graph[key]:\n",
    "            graph_final.append((key,value))\n",
    "    return graph_final\n",
    "\n",
    "graph=defaultdict(list)\n",
    "add_edge(graph,'a','b')\n",
    "add_edge(graph,'a','c')\n",
    "add_edge(graph,'b','c')\n",
    "print(generate_edges(graph))\n",
    "print(graph)"
   ]
  },
  {
   "cell_type": "markdown",
   "metadata": {},
   "source": [
    "Generate the Path from One Node to the Other Node"
   ]
  },
  {
   "cell_type": "code",
   "execution_count": null,
   "metadata": {},
   "outputs": [],
   "source": []
  }
 ],
 "metadata": {
  "kernelspec": {
   "display_name": "Python 3",
   "language": "python",
   "name": "python3"
  },
  "language_info": {
   "codemirror_mode": {
    "name": "ipython",
    "version": 3
   },
   "file_extension": ".py",
   "mimetype": "text/x-python",
   "name": "python",
   "nbconvert_exporter": "python",
   "pygments_lexer": "ipython3",
   "version": "3.7.2"
  }
 },
 "nbformat": 4,
 "nbformat_minor": 2
}
