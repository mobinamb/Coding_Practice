{
 "cells": [
  {
   "cell_type": "markdown",
   "metadata": {},
   "source": [
    "heaps are also called priority queue\n",
    "\n",
    "defaul heap is the mean heap\n",
    "\n"
   ]
  },
  {
   "cell_type": "markdown",
   "metadata": {},
   "source": [
    "find the k smallest numbers in a list"
   ]
  },
  {
   "cell_type": "code",
   "execution_count": 4,
   "metadata": {},
   "outputs": [
    {
     "name": "stdout",
     "output_type": "stream",
     "text": [
      "[1, 2, 4]\n"
     ]
    }
   ],
   "source": [
    "import heapq\n",
    "def k_smallest(nums,K):\n",
    "    k_smallest,heap=[],[]\n",
    "    # to make a heap with  can use heapq.heappush in a for loop which has a time O(Nlog(N))\n",
    "    for num in nums:\n",
    "        heapq.heappush(heap,num)\n",
    "\n",
    "    #or we can use heapq.heapify with a time O(N)\n",
    "    #heapq.heapify(nums)\n",
    "        \n",
    "    for i in range(K):\n",
    "        k_smallest.append(heapq.heappop(heap))\n",
    "    return k_smallest\n",
    "print(k_smallest([1,4,2,6,7,8],3))"
   ]
  },
  {
   "cell_type": "markdown",
   "metadata": {},
   "source": [
    "find k largest in a list"
   ]
  },
  {
   "cell_type": "code",
   "execution_count": 7,
   "metadata": {},
   "outputs": [
    {
     "name": "stdout",
     "output_type": "stream",
     "text": [
      "[8, 7, 6]\n"
     ]
    }
   ],
   "source": [
    "def k_largest(nums,K):\n",
    "    k_largest=[]\n",
    "    nums=[-num for num in nums]\n",
    "    heapq.heapify(nums)\n",
    "    for i in range(K):\n",
    "        k_largest.append(-1*heapq.heappop(nums))\n",
    "    return k_largest\n",
    "\n",
    "print(k_largest([1,4,2,6,7,8],3))"
   ]
  },
  {
   "cell_type": "markdown",
   "metadata": {},
   "source": [
    "comparing accross multiple fields using a list of tupes where each tuple mentions different features for the same data"
   ]
  },
  {
   "cell_type": "code",
   "execution_count": 9,
   "metadata": {},
   "outputs": [
    {
     "name": "stdout",
     "output_type": "stream",
     "text": [
      "[(12, 54), (16, 67), (17, 67)]\n"
     ]
    }
   ],
   "source": [
    "# each entry is a tuple (age, height)\n",
    "def k_youngest(students,k):\n",
    "    heapq.heapify(students)\n",
    "    k_y=[]\n",
    "    for i in range(k):\n",
    "        k_y.append(heapq.heappop(students))\n",
    "    return k_y\n",
    "\n",
    "\n",
    "students = [(12, 54), (18, 78), (18, 62), (17, 67), (16, 67), (21, 76)]\n",
    "print(k_youngest(students,3))"
   ]
  },
  {
   "cell_type": "code",
   "execution_count": null,
   "metadata": {},
   "outputs": [],
   "source": []
  }
 ],
 "metadata": {
  "kernelspec": {
   "display_name": "Python 3",
   "language": "python",
   "name": "python3"
  },
  "language_info": {
   "codemirror_mode": {
    "name": "ipython",
    "version": 3
   },
   "file_extension": ".py",
   "mimetype": "text/x-python",
   "name": "python",
   "nbconvert_exporter": "python",
   "pygments_lexer": "ipython3",
   "version": "3.7.2"
  }
 },
 "nbformat": 4,
 "nbformat_minor": 2
}
