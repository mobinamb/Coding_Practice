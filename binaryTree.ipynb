{
 "cells": [
  {
   "cell_type": "markdown",
   "metadata": {},
   "source": [
    "Nonlinear data structure\n",
    "\n",
    "height: distance between each node and leaf\n",
    "\n",
    "depth: diatnce between each node and root\n",
    "\n",
    "depth and height of a binary tree are equal\n",
    "\n",
    "level: depth of each node+1, root level is 1\n",
    "\n",
    "path is the edges and nodes from one node to another (always downward)\n",
    "\n",
    "max nodes in a tree: 2h-1, where h is the height of the tree\n",
    "\n",
    "size of a tree: number of nodes in the tree\n",
    "\n",
    "when you are asked to find the upper or lower bound, or more precisely, when you need to find the maximum of the smallest value or the minimum of the largest value."
   ]
  },
  {
   "cell_type": "code",
   "execution_count": null,
   "metadata": {},
   "outputs": [],
   "source": [
    "class BinaryTree():\n",
    "    def __init__(self,value=None):\n",
    "        self.value=value\n",
    "        self.left=None\n",
    "        self.right=None\n",
    "    def insert(self,value):\n",
    "        if self.value:\n",
    "            if self.value>value:\n",
    "                if self.left==None:\n",
    "                    self.left=value\n",
    "                else:\n",
    "                    self.left.insert(value)\n",
    "            elif self.value<value:\n",
    "                if self.right==None:\n",
    "                    self.right=value\n",
    "                else:\n",
    "                    self.right.insert(value)\n",
    "        else:\n",
    "            self.value=value\n",
    "        "
   ]
  },
  {
   "cell_type": "markdown",
   "metadata": {},
   "source": [
    "Transverse:\n",
    "\n",
    "pre-transvers : root, left, right\n",
    "\n",
    "in-order transverse: left, root, right\n",
    "\n",
    "post=order transverse: left. right, root\n"
   ]
  },
  {
   "cell_type": "code",
   "execution_count": 12,
   "metadata": {},
   "outputs": [
    {
     "name": "stdout",
     "output_type": "stream",
     "text": [
      "[2, 1, 3, 4, 5]\n"
     ]
    }
   ],
   "source": [
    "class BinaryTree():\n",
    "    def __init__(self,value):\n",
    "        self.value=value\n",
    "        self.left=None\n",
    "        self.right=None\n",
    "    def insert(self,value):\n",
    "        if self.value:\n",
    "            if self.value>value:\n",
    "                if self.left is None:\n",
    "                    self.left=BinaryTree(value)\n",
    "                else:\n",
    "                    self.left.insert(value)\n",
    "            elif self.value<value:\n",
    "                if self.right is None:\n",
    "                    self.right=BinaryTree(value)\n",
    "                else:\n",
    "                    self.right.insert(value)\n",
    "        else:\n",
    "            self.value=value\n",
    "\n",
    "    def preorder(self,root):\n",
    "        res=[]\n",
    "        if root:\n",
    "            res.append(root.value)\n",
    "            res+= self.preorder(root.left)\n",
    "            res+=self.preorder(root.right)\n",
    "        return res\n",
    "    \n",
    "    def inorder(self,root):\n",
    "        res=[]\n",
    "        if root:\n",
    "            res=self.inorder(root.left)\n",
    "            res.append(root.value)\n",
    "            res+=self.inorder(root.right)\n",
    "        return res\n",
    "    \n",
    "    def postorder(self,root):\n",
    "        res=[]\n",
    "        if root:\n",
    "            res=self.postorder(root.left)\n",
    "            res+=self.postorder(root.right)\n",
    "            res.append(root.value)\n",
    "        return res\n",
    "    \n",
    "BT=BinaryTree(2)\n",
    "BT.insert(1)\n",
    "BT.insert(3)\n",
    "BT.insert(4)\n",
    "BT.insert(5)\n",
    "print(BT.preorder(BT))\n"
   ]
  },
  {
   "cell_type": "markdown",
   "metadata": {},
   "source": [
    "pseudocode\n",
    "\n",
    "l=max(nums), r=sum(nums)\n",
    "\n",
    "while l<r:\n",
    "\n",
    "    mid=l+(r-1)//2\n",
    "\n",
    "    if count(mid)>m:\n",
    "\n",
    "        l=mid+1   \n",
    "\n",
    "    else:\n",
    "\n",
    "        r=mid\n",
    "\n",
    "while l<r:\n",
    "\n",
    "    mid=l+(r-1)//2\n",
    "\n",
    "    if count(mid)>m:\n",
    "\n",
    "        l=mid   \n",
    "\n",
    "    else:\n",
    "    \n",
    "        r=mid-1"
   ]
  },
  {
   "cell_type": "markdown",
   "metadata": {},
   "source": [
    "Search in rotated sorted array\n",
    "\n",
    "\n",
    "space O(1)\n",
    "\n",
    "time O(N)"
   ]
  },
  {
   "cell_type": "code",
   "execution_count": null,
   "metadata": {},
   "outputs": [],
   "source": [
    "def index_num(nums,target,l,r):\n",
    "    while l<r:\n",
    "        if target==nums[l]:\n",
    "            return l\n",
    "        elif target==nums[r]:\n",
    "            return r\n",
    "        elif target>nums[r] and target<nums[l]:\n",
    "            return -1\n",
    "        \n",
    "        elif target<nums[r]:\n",
    "            r-=1\n",
    "        elif target> nums[l]:\n",
    "            l+=1\n",
    "        index_num(nums,target,l,r) \n",
    "    return -1\n",
    "\n",
    "nums=[4,5,6,7,0,1,2]\n",
    "print(index_num(nums,target=8,l=0,r=len(nums)-1))\n"
   ]
  },
  {
   "cell_type": "markdown",
   "metadata": {},
   "source": [
    "space O(1)\n",
    "\n",
    "time O(lon(n)) as this is based oon binary search and the space time is halved"
   ]
  },
  {
   "cell_type": "code",
   "execution_count": null,
   "metadata": {},
   "outputs": [],
   "source": [
    "def index_num(nums,target):\n",
    "    if len(nums)==0:\n",
    "        return -1\n",
    "    l,r=0,len(nums)-1\n",
    "\n",
    "    while l<=r:\n",
    "        mid=(l+r)//2\n",
    "        if nums[mid]==target:\n",
    "            return mid\n",
    "        #check if the left pportion is sorted\n",
    "        if nums[l]<=nums[mid]:\n",
    "            if nums[l]<=target<=nums[mid]:\n",
    "                r=mid-1\n",
    "            else:\n",
    "                l=mid+1\n",
    "        #check if the right portion is sorted\n",
    "        else:\n",
    "            if nums[mid]<=target<nums[r]:\n",
    "                l=mid+1\n",
    "            else:\n",
    "                r=mid-1\n",
    "       \n",
    "    return -1\n",
    "    \n",
    "nums=[4,5,6,7,0,1,2]\n",
    "print(index_num(nums,target=7))"
   ]
  },
  {
   "cell_type": "markdown",
   "metadata": {},
   "source": [
    "First and Last Position of Element in Sorted Array\n",
    "\n",
    "space O(1)\n",
    "\n",
    "time O(N)"
   ]
  },
  {
   "cell_type": "code",
   "execution_count": 39,
   "metadata": {},
   "outputs": [
    {
     "name": "stdout",
     "output_type": "stream",
     "text": [
      "[5, 5]\n"
     ]
    }
   ],
   "source": [
    "def b_s(nums, target):\n",
    "    l,r=0,len(nums)-1\n",
    "    while l<=r:\n",
    "        mid=(l+r)//2\n",
    "        if nums[mid]==target:\n",
    "            return mid\n",
    "\n",
    "        if nums[mid]<target:\n",
    "            l=mid+1\n",
    "        elif nums[mid]>target:\n",
    "            r=mid-1\n",
    "    return -1\n",
    "\n",
    "def index(nums,target):\n",
    "    mid=b_s(nums,target)\n",
    "    if mid!=-1:\n",
    "        l,r=mid,mid\n",
    "        while l>=0 and nums[l]==target:\n",
    "            l-=1\n",
    "\n",
    "        while r<=len(nums)-1 and nums[r]==target:\n",
    "            r+=1\n",
    "        return [l+1,r-1]\n",
    "    else:\n",
    "        return [-1,-1]\n",
    "\n",
    "nums=[5,7,7,8,8,10]\n",
    "print(index(nums,target=10))"
   ]
  },
  {
   "cell_type": "markdown",
   "metadata": {},
   "source": [
    "binary search left and binary search right for smallest and larget index\n",
    "\n",
    "space O(1)\n",
    "\n",
    "time O(log(n))"
   ]
  },
  {
   "cell_type": "code",
   "execution_count": null,
   "metadata": {},
   "outputs": [],
   "source": [
    "def index(nums,target):\n",
    "    def bs_l(nums, target):\n",
    "        l,r=0,len(nums)-1\n",
    "        while l<=r:\n",
    "            mid=(r+l)//2\n",
    "            if nums[mid]>=target:\n",
    "                r=mid-1\n",
    "            else:\n",
    "                l=mid+1\n",
    "        return l\n",
    "\n",
    "    def bs_r(nums,target):\n",
    "        l,r=0,len(nums)-1\n",
    "        while l<=r:\n",
    "            mid=(l+r)//2\n",
    "            if nums[mid]<=target:\n",
    "                l=mid+1\n",
    "            else:\n",
    "                r=mid-1\n",
    "        return r\n",
    "                \n",
    "    l,r=bs_l(nums,target),bs_r(nums,target)\n",
    "    return [l,r] if l<=r else [-1,-1]\n",
    "\n",
    "nums,target=[5,7,7,8,8,10],77\n",
    "print(index(nums,target))\n",
    "\n"
   ]
  },
  {
   "cell_type": "markdown",
   "metadata": {},
   "source": [
    "Find Peak Element\n",
    "\n",
    "space O(1)\n",
    "\n",
    "time O(log(n))"
   ]
  },
  {
   "cell_type": "code",
   "execution_count": null,
   "metadata": {},
   "outputs": [],
   "source": [
    "import numpy as np\n",
    "def is_peak(nums,mid):\n",
    "    nums=[-np.inf]+nums+[np.inf]\n",
    "    return nums[mid]>nums[mid-1] and nums[mid]>nums[mid+1]\n",
    "def peak(nums):\n",
    "    l,r=0,len(nums)-1\n",
    "    while l<=r:\n",
    "        mid=(l+r)//2\n",
    "        if is_peak(nums,mid):\n",
    "            return mid\n",
    "        elif nums[mid]<nums[mid+1]:\n",
    "            l=mid+1\n",
    "        else:\n",
    "            r=mid-1\n",
    "    return l if nums[l]>=nums[r] else r\n",
    "\n",
    "nums=[1,2,3,1]\n",
    "print(peak(nums))\n"
   ]
  },
  {
   "cell_type": "markdown",
   "metadata": {},
   "source": [
    "First Bad Version\n",
    "\n",
    "time O(log(n))\n",
    "\n",
    "space O(1)"
   ]
  },
  {
   "cell_type": "code",
   "execution_count": null,
   "metadata": {},
   "outputs": [],
   "source": [
    "def bad_version(n,bad):\n",
    "    l,r=0,n-1\n",
    "    while l<=r:\n",
    "        mid=(l+r)//2\n",
    "        if mid>=bad:\n",
    "            print(str(mid)+' :True')\n",
    "            r=mid-1\n",
    "        elif mid<bad:\n",
    "            print(str(mid)+' :False')\n",
    "            l=mid+1\n",
    "    return l # since we need the first bad version\n",
    "\n",
    "print(bad_version(5,4))"
   ]
  },
  {
   "cell_type": "markdown",
   "metadata": {},
   "source": [
    "Design Hit Counter\n",
    "\n",
    "time O(log(n))\n",
    "\n",
    "space O(n)"
   ]
  },
  {
   "cell_type": "code",
   "execution_count": null,
   "metadata": {},
   "outputs": [],
   "source": [
    "class hitCounter():\n",
    "    def __init__(self):\n",
    "        self.hitList=[]\n",
    "    def hit(self,value):\n",
    "        self.hitList.append(value)\n",
    "    \n",
    "    def binarySearchLow(self,value):\n",
    "        l,r=0,len(self.hitList)-1\n",
    "        while l<=r:\n",
    "            mid=(l+r)//2\n",
    "            if value<=self.hitList[mid]:\n",
    "                r=mid-1\n",
    "            else:\n",
    "                l=mid+1\n",
    "        return l\n",
    "\n",
    "    def binarySearchHigh(self,value):\n",
    "        l,r=0,len(self.hitList)-1\n",
    "        while l<=r:\n",
    "            mid=(l+r)//2\n",
    "            if value>=self.hitList[mid]:\n",
    "                l=mid+1\n",
    "            else:\n",
    "                r=mid-1\n",
    "        return r\n",
    "\n",
    "    def getHits(self,value):\n",
    "        threshold=value-300+1\n",
    "        #find the index for the smallest value greater than thershold\n",
    "        l=self.binarySearchLow(threshold)#find the smallest number greater than threshold\n",
    "        r=self.binarySearchHigh(value) #find the larget number less than value\n",
    "        return r-l+1 if r>=l else 0\n",
    "    \n",
    "h=hitCounter()\n",
    "h.hit(1)\n",
    "h.hit(2)\n",
    "h.hit(3)\n",
    "#h.getHits(4)\n",
    "h.hit(300)\n",
    "h.getHits(300)\n",
    "h.getHits(301)"
   ]
  },
  {
   "cell_type": "markdown",
   "metadata": {},
   "source": [
    "minimize the largest sum \n",
    "\n",
    "consider the minimum and maximum largest sum and calculate the pieces for the mid value\n",
    "\n",
    "compare the resultant pieces with the desired number of pieces m and change the pieces accoundingly\n",
    "\n",
    "then find the mid of the new range for the largest value and find the pieces and compare with desired number of pieces\n",
    "\n",
    "\n",
    "time O(nlog(m))\n",
    "\n",
    "space(1)"
   ]
  },
  {
   "cell_type": "code",
   "execution_count": null,
   "metadata": {},
   "outputs": [],
   "source": [
    "def split(nums,largest):\n",
    "    pieces=1\n",
    "    total=0\n",
    "    for num in nums:\n",
    "        if num+total<=largest:\n",
    "            total+=num\n",
    "        else:\n",
    "            total=num\n",
    "            pieces+=1\n",
    "    return pieces\n",
    "\n",
    "def min_largest(nums,m):\n",
    "    low=max(nums) # m=len(nums)\n",
    "    high=sum(nums) # m=l\n",
    "    while low<high:\n",
    "        mid=(low+high)//2\n",
    "        pieces=split(nums,mid)\n",
    "        if pieces>m:\n",
    "            low=mid+1\n",
    "        else:\n",
    "            high=mid\n",
    "    return low\n",
    "\n",
    "print(min_largest([1,2,3,4,5],2))"
   ]
  },
  {
   "cell_type": "markdown",
   "metadata": {},
   "source": [
    "Random Pick with Weight\n",
    "\n",
    "time O(n)\n",
    "\n",
    "space O(1)"
   ]
  },
  {
   "cell_type": "code",
   "execution_count": 1,
   "metadata": {},
   "outputs": [],
   "source": [
    "import random\n",
    "def random_pick_with_weight(nums,weights):\n",
    "    weights=[w/sum(weights) for w in weights] # normalize weights\n",
    "    sum_w=0\n",
    "    for i in range(len(weights)):# add previous indices to each index\n",
    "        weights[i]+=sum_w\n",
    "        sum_w+=weights[i]\n",
    "\n",
    "    l,r,rand_num=0,len(nums)-1,random.random()\n",
    "    while l<r:\n",
    "        mid=(l+r)//2\n",
    "        if nums[mid]<=rand_num:\n",
    "            l=mid+1\n",
    "        else:\n",
    "            r=mid\n",
    "    return l"
   ]
  },
  {
   "cell_type": "markdown",
   "metadata": {},
   "source": [
    "ToDo minimize max distance to gas station"
   ]
  },
  {
   "cell_type": "code",
   "execution_count": 12,
   "metadata": {},
   "outputs": [
    {
     "name": "stdout",
     "output_type": "stream",
     "text": [
      "[1, 1, 1, 1, 1, 1, 1, 1, 1]\n",
      "1\n"
     ]
    }
   ],
   "source": [
    "def penalty(stations,k):\n",
    "    distances=sorted([stations[i+1]-stations[i] for i in range(len(stations)-1)]) # nlog(n)\n",
    "    print(distances)\n",
    "    while k>0:\n",
    "        distances.append(distances.pop() /2)\n",
    "        sorted(distances)\n",
    "        k-=1\n",
    "    return distances[0]\n",
    "\n",
    "\n",
    "stations = [1,2,3,4,5,6,7,8,9,10]\n",
    "k = 9\n",
    "print(penalty(stations,k))"
   ]
  },
  {
   "cell_type": "code",
   "execution_count": null,
   "metadata": {},
   "outputs": [],
   "source": []
  }
 ],
 "metadata": {
  "kernelspec": {
   "display_name": "Python 3",
   "language": "python",
   "name": "python3"
  },
  "language_info": {
   "codemirror_mode": {
    "name": "ipython",
    "version": 3
   },
   "file_extension": ".py",
   "mimetype": "text/x-python",
   "name": "python",
   "nbconvert_exporter": "python",
   "pygments_lexer": "ipython3",
   "version": "3.11.2"
  }
 },
 "nbformat": 4,
 "nbformat_minor": 2
}
