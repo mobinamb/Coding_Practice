{
 "cells": [
  {
   "cell_type": "markdown",
   "metadata": {},
   "source": [
    "Nonlinear data structure\n",
    "\n",
    "height: distance between each node and leaf\n",
    "\n",
    "depth: diatnce between each node and root\n",
    "\n",
    "depth and height of a binary tree are equal\n",
    "\n",
    "level: depth of each node+1, root level is 1\n",
    "\n",
    "path is the edges and nodes from one node to another (always downward)\n",
    "\n",
    "max nodes in a tree: 2h-1, whre h is the height of the tree\n",
    "\n",
    "size of a tree: number of nodes in the tree"
   ]
  },
  {
   "cell_type": "code",
   "execution_count": null,
   "metadata": {},
   "outputs": [],
   "source": [
    "class BinaryTree():\n",
    "    def __init__(self,value=None):\n",
    "        self.value=value\n",
    "        self.left=None\n",
    "        self.right=None\n",
    "    def insert(self,value):\n",
    "        if self.value:\n",
    "            if self.value>value:\n",
    "                if self.left==None:\n",
    "                    self.left=value\n",
    "                else:\n",
    "                    self.left.insert(value)\n",
    "            elif self.value<value:\n",
    "                if self.right==None:\n",
    "                    self.right=value\n",
    "                else:\n",
    "                    self.right.insert(value)\n",
    "        else:\n",
    "            self.value=value\n",
    "        "
   ]
  },
  {
   "cell_type": "markdown",
   "metadata": {},
   "source": [
    "Transverse:\n",
    "\n",
    "pre-transvers : root, left, right\n",
    "\n",
    "in-order transverse: left, root, right\n",
    "\n",
    "post=order transverse: left. right, root\n"
   ]
  },
  {
   "cell_type": "code",
   "execution_count": 12,
   "metadata": {},
   "outputs": [
    {
     "name": "stdout",
     "output_type": "stream",
     "text": [
      "[2, 1, 3, 4, 5]\n"
     ]
    }
   ],
   "source": [
    "class BinaryTree():\n",
    "    def __init__(self,value):\n",
    "        self.value=value\n",
    "        self.left=None\n",
    "        self.right=None\n",
    "    def insert(self,value):\n",
    "        if self.value:\n",
    "            if self.value>value:\n",
    "                if self.left is None:\n",
    "                    self.left=BinaryTree(value)\n",
    "                else:\n",
    "                    self.left.insert(value)\n",
    "            elif self.value<value:\n",
    "                if self.right is None:\n",
    "                    self.right=BinaryTree(value)\n",
    "                else:\n",
    "                    self.right.insert(value)\n",
    "        else:\n",
    "            self.value=value\n",
    "\n",
    "    def preorder(self,root):\n",
    "        res=[]\n",
    "        if root:\n",
    "            res.append(root.value)\n",
    "            res+= self.preorder(root.left)\n",
    "            res+=self.preorder(root.right)\n",
    "        return res\n",
    "    \n",
    "    def inorder(self,root):\n",
    "        res=[]\n",
    "        if root:\n",
    "            res=self.inorder(root.left)\n",
    "            res.append(root.value)\n",
    "            self.inorder(root.right)\n",
    "        return res\n",
    "    \n",
    "    def postorder(self,root):\n",
    "        res=[]\n",
    "        if root:\n",
    "            res=self.postorder(root.left)\n",
    "            self.postorder(root.right)\n",
    "            res.append(root.value)\n",
    "        return res\n",
    "    \n",
    "BT=BinaryTree(2)\n",
    "BT.insert(1)\n",
    "BT.insert(3)\n",
    "BT.insert(4)\n",
    "BT.insert(5)\n",
    "print(BT.preorder(BT))\n"
   ]
  },
  {
   "cell_type": "code",
   "execution_count": null,
   "metadata": {},
   "outputs": [],
   "source": []
  }
 ],
 "metadata": {
  "kernelspec": {
   "display_name": "Python 3",
   "language": "python",
   "name": "python3"
  },
  "language_info": {
   "codemirror_mode": {
    "name": "ipython",
    "version": 3
   },
   "file_extension": ".py",
   "mimetype": "text/x-python",
   "name": "python",
   "nbconvert_exporter": "python",
   "pygments_lexer": "ipython3",
   "version": "3.11.2"
  }
 },
 "nbformat": 4,
 "nbformat_minor": 2
}
